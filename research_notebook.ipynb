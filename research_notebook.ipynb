{
 "cells": [
  {
   "cell_type": "code",
   "execution_count": 1,
   "metadata": {},
   "outputs": [],
   "source": [
    "import MetaTrader5 as mt5\n",
    "import pandas as pd\n",
    "import numpy as np"
   ]
  },
  {
   "cell_type": "code",
   "execution_count": 2,
   "metadata": {},
   "outputs": [
    {
     "data": {
      "text/plain": [
       "True"
      ]
     },
     "execution_count": 2,
     "metadata": {},
     "output_type": "execute_result"
    }
   ],
   "source": [
    "# podemos dejar estas credenciasles y este archivo porque esto es una cuenta demo y sirve como guia educativa sobre pandas\n",
    "mt5.initialize(\n",
    "                path=\"C:\\\\Program Files\\\\Darwinex MetaTrader 5\\\\terminal64.exe\",\n",
    "                login=3000071302,\n",
    "                password=\"@86P#icI2Q\",\n",
    "                server=\"demoUK-mt5.darwinex.com\",\n",
    "                timeout=60000,\n",
    "                portable=False\n",
    "            )"
   ]
  },
  {
   "cell_type": "code",
   "execution_count": 13,
   "metadata": {},
   "outputs": [
    {
     "data": {
      "text/html": [
       "<div>\n",
       "<style scoped>\n",
       "    .dataframe tbody tr th:only-of-type {\n",
       "        vertical-align: middle;\n",
       "    }\n",
       "\n",
       "    .dataframe tbody tr th {\n",
       "        vertical-align: top;\n",
       "    }\n",
       "\n",
       "    .dataframe thead th {\n",
       "        text-align: right;\n",
       "    }\n",
       "</style>\n",
       "<table border=\"1\" class=\"dataframe\">\n",
       "  <thead>\n",
       "    <tr style=\"text-align: right;\">\n",
       "      <th></th>\n",
       "      <th>open</th>\n",
       "      <th>high</th>\n",
       "      <th>low</th>\n",
       "      <th>close</th>\n",
       "      <th>tickvol</th>\n",
       "      <th>vol</th>\n",
       "      <th>spread</th>\n",
       "    </tr>\n",
       "    <tr>\n",
       "      <th>time</th>\n",
       "      <th></th>\n",
       "      <th></th>\n",
       "      <th></th>\n",
       "      <th></th>\n",
       "      <th></th>\n",
       "      <th></th>\n",
       "      <th></th>\n",
       "    </tr>\n",
       "  </thead>\n",
       "  <tbody>\n",
       "    <tr>\n",
       "      <th>2024-10-14 16:00:00</th>\n",
       "      <td>1.09094</td>\n",
       "      <td>1.09273</td>\n",
       "      <td>1.09047</td>\n",
       "      <td>1.09190</td>\n",
       "      <td>4185</td>\n",
       "      <td>0</td>\n",
       "      <td>0</td>\n",
       "    </tr>\n",
       "    <tr>\n",
       "      <th>2024-10-14 17:00:00</th>\n",
       "      <td>1.09190</td>\n",
       "      <td>1.09190</td>\n",
       "      <td>1.09050</td>\n",
       "      <td>1.09148</td>\n",
       "      <td>3934</td>\n",
       "      <td>0</td>\n",
       "      <td>0</td>\n",
       "    </tr>\n",
       "    <tr>\n",
       "      <th>2024-10-14 18:00:00</th>\n",
       "      <td>1.09148</td>\n",
       "      <td>1.09165</td>\n",
       "      <td>1.09048</td>\n",
       "      <td>1.09070</td>\n",
       "      <td>2221</td>\n",
       "      <td>0</td>\n",
       "      <td>0</td>\n",
       "    </tr>\n",
       "    <tr>\n",
       "      <th>2024-10-14 19:00:00</th>\n",
       "      <td>1.09070</td>\n",
       "      <td>1.09086</td>\n",
       "      <td>1.09007</td>\n",
       "      <td>1.09015</td>\n",
       "      <td>1368</td>\n",
       "      <td>0</td>\n",
       "      <td>0</td>\n",
       "    </tr>\n",
       "    <tr>\n",
       "      <th>2024-10-14 20:00:00</th>\n",
       "      <td>1.09015</td>\n",
       "      <td>1.09042</td>\n",
       "      <td>1.08974</td>\n",
       "      <td>1.09040</td>\n",
       "      <td>987</td>\n",
       "      <td>0</td>\n",
       "      <td>0</td>\n",
       "    </tr>\n",
       "  </tbody>\n",
       "</table>\n",
       "</div>"
      ],
      "text/plain": [
       "                        open     high      low    close  tickvol  vol  spread\n",
       "time                                                                         \n",
       "2024-10-14 16:00:00  1.09094  1.09273  1.09047  1.09190     4185    0       0\n",
       "2024-10-14 17:00:00  1.09190  1.09190  1.09050  1.09148     3934    0       0\n",
       "2024-10-14 18:00:00  1.09148  1.09165  1.09048  1.09070     2221    0       0\n",
       "2024-10-14 19:00:00  1.09070  1.09086  1.09007  1.09015     1368    0       0\n",
       "2024-10-14 20:00:00  1.09015  1.09042  1.08974  1.09040      987    0       0"
      ]
     },
     "execution_count": 13,
     "metadata": {},
     "output_type": "execute_result"
    }
   ],
   "source": [
    "symbol = \"EURUSD\"\n",
    "tf = mt5.TIMEFRAME_H1\n",
    "from_position = 1 # 0 significa vela actual 1 seria la ultima vela cerrada\n",
    "num_bars = 15 # cantidad de velas apartir de from_position\n",
    "\n",
    "bars = pd.DataFrame(mt5.copy_rates_from_pos(symbol, tf, from_position, num_bars))\n",
    "bars['time'] = pd.to_datetime(bars['time'], unit='s')\n",
    "bars.set_index('time', inplace=True)\n",
    "bars.rename(columns={'tick_volume': 'tickvol', 'real_volume': 'vol'}, inplace=True)\n",
    "bars = bars[['open', 'high', 'low', 'close', 'tickvol', 'vol', 'spread']]\n",
    "\n",
    "bars.head()"
   ]
  },
  {
   "cell_type": "code",
   "execution_count": 15,
   "metadata": {},
   "outputs": [
    {
     "data": {
      "text/plain": [
       "1.090472"
      ]
     },
     "execution_count": 15,
     "metadata": {},
     "output_type": "execute_result"
    }
   ],
   "source": [
    "bars['close'].rolling(10).mean().iloc[-1] # calcular la media movil de los ultimos 10 precios de cierre\n",
    "bars['close'][-10:].mean() # calcular la media de los ultimos 10 precios de cierre\n",
    "np.mean(bars['close'][-10:]) # calcular la media de los ultimos 10 precios de cierre"
   ]
  },
  {
   "cell_type": "code",
   "execution_count": 8,
   "metadata": {},
   "outputs": [
    {
     "data": {
      "text/plain": [
       "time\n",
       "2024-10-10 15:00:00    1.09440\n",
       "2024-10-10 16:00:00    1.09372\n",
       "2024-10-10 17:00:00    1.09222\n",
       "2024-10-10 18:00:00    1.09248\n",
       "2024-10-10 19:00:00    1.09059\n",
       "Name: close, dtype: float64"
      ]
     },
     "execution_count": 8,
     "metadata": {},
     "output_type": "execute_result"
    }
   ],
   "source": [
    "# Una serie es un objeto de pandas que representa una columna de un DataFrame\n",
    "# Una serie es un array unidimensional con etiquetas\n",
    "cierre_vela = bars['close']\n",
    "cierre_vela"
   ]
  },
  {
   "cell_type": "code",
   "execution_count": 9,
   "metadata": {},
   "outputs": [
    {
     "data": {
      "text/plain": [
       "open          1.09248\n",
       "high          1.09281\n",
       "low           1.09031\n",
       "close         1.09059\n",
       "tickvol    4068.00000\n",
       "vol           0.00000\n",
       "spread        0.00000\n",
       "Name: 2024-10-10 19:00:00, dtype: float64"
      ]
     },
     "execution_count": 9,
     "metadata": {},
     "output_type": "execute_result"
    }
   ],
   "source": [
    "# recuperar el ultimo item de la serie\n",
    "bars.iloc[-1]"
   ]
  },
  {
   "cell_type": "code",
   "execution_count": 14,
   "metadata": {},
   "outputs": [
    {
     "data": {
      "text/plain": [
       "Timestamp('2024-10-10 19:00:00')"
      ]
     },
     "execution_count": 14,
     "metadata": {},
     "output_type": "execute_result"
    }
   ],
   "source": [
    "latest_bar = bars.iloc[-1]\n",
    "latest_bar.name"
   ]
  },
  {
   "cell_type": "code",
   "execution_count": 11,
   "metadata": {},
   "outputs": [
    {
     "data": {
      "text/plain": [
       "{'time': 1728594404,\n",
       " 'bid': 1.09211,\n",
       " 'ask': 1.09213,\n",
       " 'last': 0.0,\n",
       " 'volume': 0,\n",
       " 'time_msc': 1728594404360,\n",
       " 'flags': 6,\n",
       " 'volume_real': 0.0}"
      ]
     },
     "execution_count": 11,
     "metadata": {},
     "output_type": "execute_result"
    }
   ],
   "source": [
    "last_tick = mt5.symbol_info_tick('EURUSD')._asdict()\n",
    "last_tick"
   ]
  },
  {
   "cell_type": "code",
   "execution_count": 12,
   "metadata": {},
   "outputs": [],
   "source": [
    "def get_latest_tick(symbol: str) -> dict:\n",
    "    \"\"\"\n",
    "    Retrieves the latest tick for the given symbol.\n",
    "\n",
    "    Parameters:\n",
    "    symbol (str): The symbol for which to retrieve the latest tick.\n",
    "\n",
    "    Returns:\n",
    "    dict: A dictionary containing the latest tick information.\n",
    "    \"\"\"\n",
    "    try:\n",
    "        tick = mt5.symbol_info_tick(symbol)\n",
    "        if tick is None:\n",
    "            print(f\"No se ha podido recuperar el último tick de {symbol} - MT5 error: {mt5.last_error()}\")\n",
    "            return {}\n",
    "    \n",
    "    except Exception as e:\n",
    "        print(f\"Algo no ha ido bien a la hora de recuperar el último tick de {symbol}. MT5 error: {mt5.last_error()}, exception: {e}\")\n",
    "    \n",
    "    else:\n",
    "        return tick._asdict() # _asdict() es un metodo de mt5 para convertir el objeto en un diccionario de python"
   ]
  },
  {
   "cell_type": "code",
   "execution_count": 13,
   "metadata": {},
   "outputs": [
    {
     "data": {
      "text/plain": [
       "{'time': 1728594966,\n",
       " 'bid': 1.0923,\n",
       " 'ask': 1.09233,\n",
       " 'last': 0.0,\n",
       " 'volume': 0,\n",
       " 'time_msc': 1728594966691,\n",
       " 'flags': 4,\n",
       " 'volume_real': 0.0}"
      ]
     },
     "execution_count": 13,
     "metadata": {},
     "output_type": "execute_result"
    }
   ],
   "source": [
    "get_latest_tick(\"EURUSD\")"
   ]
  }
 ],
 "metadata": {
  "kernelspec": {
   "display_name": "mt5python",
   "language": "python",
   "name": "python3"
  },
  "language_info": {
   "codemirror_mode": {
    "name": "ipython",
    "version": 3
   },
   "file_extension": ".py",
   "mimetype": "text/x-python",
   "name": "python",
   "nbconvert_exporter": "python",
   "pygments_lexer": "ipython3",
   "version": "3.11.10"
  }
 },
 "nbformat": 4,
 "nbformat_minor": 2
}
